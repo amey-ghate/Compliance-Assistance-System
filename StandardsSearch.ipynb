{
 "cells": [
  {
   "cell_type": "code",
   "execution_count": null,
   "metadata": {},
   "outputs": [],
   "source": [
    "import os\n",
    "import glob\n",
    "from langchain_community.document_loaders import DirectoryLoader\n",
    "from langchain_community.embeddings import OllamaEmbeddings\n",
    "from langchain_community.vectorstores import Chroma\n",
    "from langchain_community.llms import Ollama\n",
    "from langchain_core.prompts import ChatPromptTemplate\n",
    "from langchain.chains.combine_documents import create_stuff_documents_chain\n",
    "from langchain.chains import create_retrieval_chain\n",
    "from langchain_community.document_loaders import PyPDFLoader"
   ]
  },
  {
   "cell_type": "code",
   "execution_count": 130,
   "metadata": {},
   "outputs": [],
   "source": [
    "# Directory containing standards\n",
    "standards_directory = \"./standards/\"\n",
    "\n",
    "# 1. Load the documents\n",
    "def load_standards(directory):\n",
    "    loader = DirectoryLoader(\n",
    "        path=directory,\n",
    "        glob=f\"**/*pdf\",\n",
    "        loader_cls=PyPDFLoader)\n",
    "    documents = loader.load()\n",
    "    return documents\n",
    "\n",
    "documents = load_standards(standards_directory)"
   ]
  },
  {
   "cell_type": "code",
   "execution_count": null,
   "metadata": {},
   "outputs": [],
   "source": [
    "# 3. Embed the chunks and store in vector DB\n",
    "def embed_chunks(chunks):\n",
    "    embedding = OllamaEmbeddings(model=\"nomic-embed-text\")\n",
    "    vector_store = Chroma.from_documents(chunks, embedding)\n",
    "    return vector_store\n",
    "\n",
    "vector_store = embed_chunks(documents)"
   ]
  },
  {
   "cell_type": "code",
   "execution_count": null,
   "metadata": {},
   "outputs": [],
   "source": [
    "question = \"what is federal and state restriction on use of lead content in children items\""
   ]
  },
  {
   "cell_type": "code",
   "execution_count": null,
   "metadata": {},
   "outputs": [],
   "source": [
    "llm = Ollama(model=\"llama3.1\")\n",
    "## Prompt construction\n",
    "prompt = ChatPromptTemplate.from_template(\n",
    "    \"\"\"\n",
    "    <System>Clear all previous information and provide an answer solely based on the information present context\n",
    "    </System>\n",
    "            \n",
    "                                                    \n",
    "            <context>\n",
    "            {context}\n",
    "            </context>\n",
    "\n",
    "            Answer the question below. Include all specific information and keep it brief \n",
    "                                                    \n",
    "            Question: {input}\n",
    "\"\"\"\n",
    ")\n",
    "\n",
    "## Retrieve context from vector store\n",
    "docs_chain = create_stuff_documents_chain(llm, prompt)\n",
    "retriever = vector_store.as_retriever()\n",
    "retrieval_chain = create_retrieval_chain(retriever, docs_chain)\n"
   ]
  },
  {
   "cell_type": "code",
   "execution_count": null,
   "metadata": {},
   "outputs": [],
   "source": [
    "answer = retrieval_chain.invoke({\"input\":question})"
   ]
  },
  {
   "cell_type": "code",
   "execution_count": null,
   "metadata": {},
   "outputs": [],
   "source": [
    "answer['answer']"
   ]
  }
 ],
 "metadata": {
  "kernelspec": {
   "display_name": "rag",
   "language": "python",
   "name": "python3"
  },
  "language_info": {
   "codemirror_mode": {
    "name": "ipython",
    "version": 3
   },
   "file_extension": ".py",
   "mimetype": "text/x-python",
   "name": "python",
   "nbconvert_exporter": "python",
   "pygments_lexer": "ipython3",
   "version": "3.12.4"
  }
 },
 "nbformat": 4,
 "nbformat_minor": 2
}
